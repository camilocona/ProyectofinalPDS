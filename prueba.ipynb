import numpy as np
import matplotlib.pyplot as plt
from obspy import Trace, UTCDateTime

# Parámetros del terremoto
magnitud = 4.5
profundidad = 37.4  # en kilómetros

# Crear una traza de datos sísmicos sintéticos
# Aquí, simplemente se genera ruido aleatorio para simular la señal
tiempo_inicio = UTCDateTime()
duracion = 60  # Duración en segundos
sampling_rate = 100  # Tasa de muestreo en Hz
num_muestras = duracion * sampling_rate
traza_sintetica = Trace(data=np.random.randn(num_muestras))
traza_sintetica.stats.starttime = tiempo_inicio
traza_sintetica.stats.sampling_rate = sampling_rate
traza_sintetica.stats.network = 'SY'
traza_sintetica.stats.station = 'SIMULACION'

# Graficar la señal sísmica sintética
plt.figure(figsize=(10, 4))
plt.plot(traza_sintetica.times(), traza_sintetica.data, 'k')
plt.xlabel('Tiempo (s)')
plt.ylabel('Amplitud')
plt.title(f"Señal Sísmica Sintética - Magnitud: {magnitud}, Profundidad: {profundidad} km")
plt.grid(True)
plt.show()
